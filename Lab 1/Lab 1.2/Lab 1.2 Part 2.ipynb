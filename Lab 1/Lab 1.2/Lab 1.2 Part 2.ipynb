{
 "cells": [
  {
   "cell_type": "markdown",
   "metadata": {},
   "source": [
    "# Lab 1.2 Pipeline Infrastrucure "
   ]
  },
  {
   "cell_type": "markdown",
   "metadata": {},
   "source": [
    "### List of Steps"
   ]
  },
  {
   "cell_type": "markdown",
   "metadata": {},
   "source": [
    "> Import Required Modules\n",
    "\n",
    "> Setting up PostGIS connection and creating geometric primitives (polygon)\n",
    "\n",
    "> Installing PostGIS on Virtual Machine with configured Firewall and CPUs and with Github web_server repo via Dr. Runck's repo\n",
    "\n",
    "> Using an app.py to create and establish connection from psycopg2/PostGIS server to HTTP port to display GeoJSON and then save to local drive\n",
    "\n",
    "> From local drive, use Google Cloud Run to continuously update resources/information on ArcGIS Online/servers for potential clients\n",
    "\n",
    "> (Alternative) Convert GeoJSON information to JSON and JSON strins in dictionary formats and display on ArcGIS Online as static object"
   ]
  },
  {
   "cell_type": "code",
   "execution_count": 4,
   "metadata": {},
   "outputs": [],
   "source": [
    "import arcpy\n",
    "import psycopg2\n",
    "from psycopg2 import sql\n",
    "from psycopg2.extras import RealDictCursor"
   ]
  },
  {
   "cell_type": "code",
   "execution_count": 9,
   "metadata": {},
   "outputs": [],
   "source": [
    "# TEST\n",
    "#connection= psycopg2.connect(host = '107.178.210.122',\n",
    "                             #database = 'lab0',\n",
    "                             #user = 'postgres',\n",
    "                             #password = '----')\n",
    "#cursor = connection.cursor()\n",
    "\n",
    "#cursor = connection.cursor()\n",
    "#create_table_query = sql.SQL(\"CREATE TABLE Table2 (polygon geometry)\")\n",
    "#cursor.execute(create_table_query)\n",
    "\n",
    "#connection.commit()\n",
    "#cursor.close()\n",
    "#connection.close()"
   ]
  },
  {
   "cell_type": "code",
   "execution_count": 26,
   "metadata": {},
   "outputs": [],
   "source": [
    "# TEST\n",
    "#points = arcpy.Array([arcpy.Point(1,16),\n",
    "                          #arcpy.Point(51,2),\n",
    "                         # arcpy.Point(23,32),\n",
    "                          #arcpy.Point(7,4)])\n",
    "\n",
    "#polygon = arcpy.Polygon(points)\n",
    "#polygon_wkt = polygon.WKT\n",
    "# - tmux - terminal multiplex for Lab 2 let flask run in background"
   ]
  },
  {
   "cell_type": "code",
   "execution_count": 29,
   "metadata": {},
   "outputs": [],
   "source": [
    "# Create a polygon using ArcPy geometry primitives\n",
    "polygon = arcpy.Polygon(arcpy.Array([arcpy.Point(1,16),\n",
    "                          arcpy.Point(51,2),\n",
    "                          arcpy.Point(23,32),\n",
    "                          arcpy.Point(7,4)]))\n",
    "\n",
    "# Convert the polygon to WKT\n",
    "wkt = polygon.WKT\n",
    "\n",
    "# Connect to the PostGIS database using psycopg2\n",
    "connection = psycopg2.connect(host = '107.178.210.122',\n",
    "                             database = 'lab0',\n",
    "                             user = 'postgres',\n",
    "                             password = 'ARDGISumn1994123')\n",
    "\n",
    "# Create a cursor\n",
    "cursor = connection.cursor()\n",
    "\n",
    "# Define the insert statement\n",
    "insert_stmt = \"INSERT INTO table2 (polygon) VALUES (ST_GeomFromText('{}', 4326))\".format(wkt)\n",
    "\n",
    "\n",
    "# Execute the insert statement\n",
    "cursor.execute(insert_stmt)\n",
    "\n",
    "# Commit the transaction\n",
    "connection.commit()\n",
    "\n",
    "# Close the cursor and the database connection\n",
    "cursor.close()\n",
    "connection.close()\n"
   ]
  },
  {
   "cell_type": "code",
   "execution_count": 5,
   "metadata": {
    "scrolled": true
   },
   "outputs": [
    {
     "ename": "SyntaxError",
     "evalue": "invalid syntax (<string>, line 2)",
     "output_type": "error",
     "traceback": [
      "\u001b[0;31m---------------------------------------------------------------------------\u001b[0m\n\u001b[0;31mSyntaxError\u001b[0m                               Traceback (most recent call last)",
      "File \u001b[0;34mC:\\Users\\Alexander Danielson\\AppData\\Local\\ESRI\\conda\\envs\\arcgispro-py3-clone\\lib\\ast.py\u001b[0m, in \u001b[0;32mparse\u001b[0m:\nLine \u001b[0;34m50\u001b[0m:    \u001b[34mreturn\u001b[39;49;00m \u001b[36mcompile\u001b[39;49;00m(source, filename, mode, flags,\n",
      "\u001b[0;31mSyntaxError\u001b[0m: invalid syntax (<string>, line 2)\n\u001b[0;31m---------------------------------------------------------------------------\u001b[0m"
     ]
    }
   ],
   "source": [
    "#Install PostGIS and psycopg2 on the VM:\n",
    "sudo apt-get update\n",
    "sudo apt-get install postgis\n",
    "pip install psycopg2-binary\n",
    "pip install Flask"
   ]
  },
  {
   "cell_type": "code",
   "execution_count": null,
   "metadata": {},
   "outputs": [],
   "source": [
    "#make a .py file of the following file and upload to VM ssh\n",
    "\n",
    "import psycopg2\n",
    "from flask import Flask, jsonify\n",
    "from psycopg2 import sql\n",
    "from psycopg2.extras import RealDictCursor\n",
    "\n",
    "app = Flask(__name__)\n",
    "\n",
    "@app.route('/get_polygon', methods=['GET'])\n",
    "def get_polygon():\n",
    "    conn= psycopg2.connect(host = '35.223.186.20',\n",
    "                             database = 'lab0',\n",
    "                             user = 'postgres',\n",
    "                             password = '')\n",
    "\n",
    "    cur = connection.cursor(cursor_factory=RealDictCursor)\n",
    "    cur.execute(sql.SQL(\"SELECT mytable, ST_AsGeoJSON(geom)::json AS geometry FROM mytable WHERE id = %s\"), (1,))\n",
    "    result = cur.fetchone()\n",
    "    cur.close()\n",
    "    conn.close()\n",
    "    return jsonify(result)\n",
    "\n",
    "#name the .py file \"app.py\", then upload this app.py file to your ssh on google VM"
   ]
  },
  {
   "cell_type": "code",
   "execution_count": null,
   "metadata": {},
   "outputs": [],
   "source": [
    "#Replace your_vm_external_ip with the external IP address of your VM.\n",
    "export FLASK_APP=app6.py\n",
    "flask run --host=0.0.0.0"
   ]
  },
  {
   "cell_type": "code",
   "execution_count": 30,
   "metadata": {},
   "outputs": [
    {
     "name": "stdout",
     "output_type": "stream",
     "text": [
      "GeoJSON file saved to C:/my_geojson_file.geojson\n"
     ]
    }
   ],
   "source": [
    "import requests\n",
    "\n",
    "url = \"http://34.69.52.173:5000/get_polygon\"\n",
    "response = requests.get(url)\n",
    "\n",
    "if response.status_code == 200:\n",
    "    geojson = response.json()\n",
    "    with open(\"C:/Users/Alexander Danielson/Desktop/New folder/my_geojson_file.geojson\", \"w\") as f:\n",
    "        f.write(str(geojson))\n",
    "        print(\"GeoJSON file saved to C:/my_geojson_file.geojson\")\n",
    "else:\n",
    "    print(\"Failed to retrieve geojson data from the URL.\")\n",
    "\n"
   ]
  },
  {
   "cell_type": "code",
   "execution_count": null,
   "metadata": {},
   "outputs": [],
   "source": [
    "# TEST\n",
    "#import arcpy\n",
    "\n",
    "# Set up connection to ArcGIS Online\n",
    "#gis = arcpy.gis.GIS(\"https://www.arcgis.com\", \"\", \"password\")\n",
    "\n",
    "# Create a new item for the feature layer\n",
    "#item_properties = {'title': 'My Feature Layer', 'type': 'GeoJson'}\n",
    "#item = gis.content.add(item_properties)\n",
    "\n",
    "# Publish the feature layer from the GeoJSON file\n",
    "#feature_layer = item.publish(file_path=r'C:\\path\\to\\my\\file.geojson')\n",
    "\n",
    "# Share the feature layer\n",
    "#feature_layer.share(everyone=True)\n",
    "\n",
    "# Print the URL to the feature layer\n",
    "#print(feature_layer.url)"
   ]
  },
  {
   "cell_type": "code",
   "execution_count": 31,
   "metadata": {},
   "outputs": [
    {
     "name": "stdout",
     "output_type": "stream",
     "text": [
      "{\"type\": \"FeatureCollection\", \"features\": [{\"type\": \"Feature\", \"geometry\": {\"coordinates\": [[[[1.00012207, 1.00012207], [2.00012207, 1.00012207], [2.00012207, 2.00012207], [1.00012207, 2.00012207], [1.00012207, 1.00012207]]]], \"type\": \"MultiPolygon\"}, \"properties\": {\"table2\": \"(0106000020E61000000100000001030000000100000005000000000000008000F03F000000008000F03F0000000040000040000000008000F03F00000000400000400000000040000040000000008000F03F0000000040000040000000008000F03F000000008000F03F)\"}}]}\n"
     ]
    }
   ],
   "source": [
    "import json\n",
    "\n",
    "# First JSON\n",
    "json_string_1 = '{\"geometry\":{\"coordinates\":[[[[1.00012207,1.00012207],[2.00012207,1.00012207],[2.00012207,2.00012207],[1.00012207,2.00012207],[1.00012207,1.00012207]]]],\"type\":\"MultiPolygon\"},\"table2\":\"(0106000020E61000000100000001030000000100000005000000000000008000F03F000000008000F03F0000000040000040000000008000F03F00000000400000400000000040000040000000008000F03F0000000040000040000000008000F03F000000008000F03F)\"}'\n",
    "\n",
    "# Load the JSON string as a Python object\n",
    "json_obj_1 = json.loads(json_string_1)\n",
    "\n",
    "# Convert the first JSON object to the second JSON object\n",
    "json_obj_2 = {\n",
    "    \"type\": \"FeatureCollection\",\n",
    "    \"features\": [\n",
    "        {\n",
    "            \"type\": \"Feature\",\n",
    "            \"geometry\": json_obj_1['geometry'],\n",
    "            \"properties\": {\n",
    "                \"table2\": json_obj_1['table2']\n",
    "            }\n",
    "        }\n",
    "    ]\n",
    "}\n",
    "\n",
    "# Convert the Python object to a JSON string\n",
    "json_string_2 = json.dumps(json_obj_2)\n",
    "\n",
    "# Print the resulting JSON string\n",
    "print(json_string_2)"
   ]
  },
  {
   "cell_type": "code",
   "execution_count": 34,
   "metadata": {},
   "outputs": [],
   "source": [
    "# Save the dictionary as a JSON file\n",
    "with open('C:/Users/Alexander Danielson/Desktop/New folder/esri_json1.json', 'w') as json_file:\n",
    "    json.dump(json_obj_2, json_file)"
   ]
  },
  {
   "cell_type": "code",
   "execution_count": 35,
   "metadata": {
    "scrolled": true
   },
   "outputs": [
    {
     "ename": "Exception",
     "evalue": "Unable to publish item.\nUser 'ARDPHOTO' does not have publishing privileges.\n(Error Code: 400)",
     "output_type": "error",
     "traceback": [
      "\u001b[0;31m---------------------------------------------------------------------------\u001b[0m\n\u001b[0;31mException\u001b[0m                                 Traceback (most recent call last)",
      "In  \u001b[0;34m[35]\u001b[0m:\nLine \u001b[0;34m12\u001b[0m:    feature_layer_item = item.publish()\n",
      "File \u001b[0;34mC:\\Users\\Alexander Danielson\\AppData\\Local\\ESRI\\conda\\envs\\arcgispro-py3-clone\\lib\\site-packages\\arcgis\\gis\\__init__.py\u001b[0m, in \u001b[0;32mpublish\u001b[0m:\nLine \u001b[0;34m13846\u001b[0m: ret = \u001b[36mself\u001b[39;49;00m._portal.publish_item(\n",
      "File \u001b[0;34mC:\\Users\\Alexander Danielson\\AppData\\Local\\ESRI\\conda\\envs\\arcgispro-py3-clone\\lib\\site-packages\\arcgis\\gis\\_impl\\_portalpy.py\u001b[0m, in \u001b[0;32mpublish_item\u001b[0m:\nLine \u001b[0;34m501\u001b[0m:   resp = \u001b[36mself\u001b[39;49;00m.con.post(path, postdata, files)\n",
      "File \u001b[0;34mC:\\Users\\Alexander Danielson\\AppData\\Local\\ESRI\\conda\\envs\\arcgispro-py3-clone\\lib\\site-packages\\arcgis\\gis\\_impl\\_con\\_connection.py\u001b[0m, in \u001b[0;32mpost\u001b[0m:\nLine \u001b[0;34m1407\u001b[0m:  \u001b[34mreturn\u001b[39;49;00m \u001b[36mself\u001b[39;49;00m._handle_response(\n",
      "File \u001b[0;34mC:\\Users\\Alexander Danielson\\AppData\\Local\\ESRI\\conda\\envs\\arcgispro-py3-clone\\lib\\site-packages\\arcgis\\gis\\_impl\\_con\\_connection.py\u001b[0m, in \u001b[0;32m_handle_response\u001b[0m:\nLine \u001b[0;34m900\u001b[0m:   \u001b[36mself\u001b[39;49;00m._handle_json_error(data[\u001b[33m\"\u001b[39;49;00m\u001b[33merror\u001b[39;49;00m\u001b[33m\"\u001b[39;49;00m], errorcode)\n",
      "File \u001b[0;34mC:\\Users\\Alexander Danielson\\AppData\\Local\\ESRI\\conda\\envs\\arcgispro-py3-clone\\lib\\site-packages\\arcgis\\gis\\_impl\\_con\\_connection.py\u001b[0m, in \u001b[0;32m_handle_json_error\u001b[0m:\nLine \u001b[0;34m923\u001b[0m:   \u001b[34mraise\u001b[39;49;00m \u001b[36mException\u001b[39;49;00m(errormessage)\n",
      "\u001b[0;31mException\u001b[0m: Unable to publish item.\nUser 'ARDPHOTO' does not have publishing privileges.\n(Error Code: 400)\n\u001b[0;31m---------------------------------------------------------------------------\u001b[0m"
     ]
    }
   ],
   "source": [
    "import arcpy\n",
    "from arcgis.gis import GIS\n",
    "from arcgis.features import FeatureLayerCollection\n",
    "\n",
    "# Connect to your ArcGIS Online organization\n",
    "gis = GIS(\"https://www.arcgis.com\", \"ARDPHOTO\", \"----\")\n",
    "\n",
    "# Upload the GeoJSON file as a new item\n",
    "item = gis.content.add({'type': 'GeoJson'}, 'C:/Users/Alexander Danielson/Desktop/New folder/esri_json1.json')\n",
    "\n",
    "# Publish the new item as a feature layer\n",
    "feature_layer_item = item.publish()\n",
    "\n",
    "# Get the feature layer URL and print it\n",
    "feature_layer_url = feature_layer_item.url\n",
    "print(feature_layer_url)"
   ]
  },
  {
   "cell_type": "code",
   "execution_count": null,
   "metadata": {},
   "outputs": [],
   "source": []
  }
 ],
 "metadata": {
  "kernelspec": {
   "display_name": "ArcGISPro",
   "language": "Python",
   "name": "python3"
  },
  "language_info": {
   "file_extension": ".py",
   "name": "python",
   "version": "3"
  }
 },
 "nbformat": 4,
 "nbformat_minor": 2
}
